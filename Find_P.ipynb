{
 "cells": [
  {
   "cell_type": "code",
   "execution_count": 2,
   "id": "65d75ae2-203a-4d67-aed3-aac40e173b03",
   "metadata": {},
   "outputs": [
    {
     "name": "stderr",
     "output_type": "stream",
     "text": [
      "RuntimeWarning: This platform does not support extended precision floating-point, and PINT will run at reduced precision.\n"
     ]
    }
   ],
   "source": [
    "import numpy as np\n",
    "import binaryCorr\n",
    "import astropy.io.fits as pyfits\n",
    "import sys\n",
    "import os\n",
    "import stingray.pulse as STpulse\n",
    "from scipy.optimize import curve_fit\n",
    "import matplotlib.pyplot as plt\n",
    "from stingray.pulse.search import epoch_folding_search, z_n_search, phase_dispersion_search\n",
    "plt.style.use('science')\n",
    "plt.rcParams['text.usetex'] = True\n",
    "from stingray import AveragedPowerspectrum, AveragedCrossspectrum, EventList, Lightcurve\n",
    "from stingray.gti import create_gti_from_condition, gti_border_bins, time_intervals_from_gtis, cross_two_gtis,create_gti_mask\n",
    "from stingray.utils import show_progress\n",
    "from stingray.fourier import avg_cs_from_events, avg_pds_from_events, poisson_level, get_average_ctrate\n",
    "from stingray.modeling.parameterestimation import PSDLogLikelihood\n",
    "from scipy.optimize import curve_fit\n",
    "#from sklearn.mixture import GaussianMixturet\n",
    "from sklearn import mixture\n",
    "from sklearn.cluster import KMeans\n",
    "import scipy.stats\n",
    "from stingray.pulse import fftfit\n",
    "from numpy import *\n",
    "from scipy import interpolate\n",
    "import glob"
   ]
  },
  {
   "cell_type": "code",
   "execution_count": 3,
   "id": "0364f34c-1ec2-4e2a-88b0-74d8ff979580",
   "metadata": {},
   "outputs": [],
   "source": [
    "def hxbary(input,output,orbitfile):\n",
    "    header = pyfits.open(input)[1].header\n",
    "    # if header['OBS_MODE'] != 'Pointing':\n",
    "    #     print('The Pointing mode is required!')\n",
    "    #     #os.sys.exit()\n",
    "    ra = header['RA_OBJ']\n",
    "    dec = header['DEC_OBJ']\n",
    "    print(ra,dec)\n",
    "    #os.system(\"hxbary  evtfile=%s  orbitfile=%s  ra=%lf  dec=%lf eph=2 clobber=yes\"%(evt, orbitfile,  ra, dec))\n",
    "    print(\"barycorr ra=%s dec=%s refframe=ICRS infile=%s outfile=%s orbitfiles=%s\"%(ra,dec,input,output,orbitfile))\n",
    "    #Ephemeris (1 for DE200,2 for DE405)\""
   ]
  },
  {
   "cell_type": "raw",
   "id": "35cce1f4-94a9-4afb-b9fa-3913e124eca3",
   "metadata": {},
   "source": [
    "def binCor(time,MJD):#change values！\n",
    "    #T90=2458116.09700-2400000.5\n",
    "    e = 0.1029\n",
    "    Porb = 27.698899*86400\n",
    "    Porb_dot = 0\n",
    "    omega = -74.05*np.pi/180.\n",
    "    asin = 115.531\n",
    "    T90=2458116.09700-2400000.5\n",
    "    Tw = T90 - (np.pi/2. - omega) * Porb/86400./ (2*np.pi) #unit: MJD\n",
    "    #Tw=49156.7\n",
    "    #------\n",
    "    tor = np.empty_like(time)\n",
    "    for j in range(len(time)):\n",
    "        tor[j] = binaryCorr.Cor(time[j]/86400.+MJD, Tw, e, Porb, Porb_dot, omega, 0, asin, 0)\n",
    "    time = time + tor\n",
    "    return time"
   ]
  },
  {
   "cell_type": "code",
   "execution_count": 4,
   "id": "1ba9a04d-016b-454e-8739-e367f5c9f7a3",
   "metadata": {},
   "outputs": [],
   "source": [
    "def efold(time, cts, period, nbins = 16, dt = 1, cts_err = None):\n",
    "    phase = STpulse.pulse_phase(time, 1./period)    \n",
    "    phase_ind = phase // (1./nbins)\n",
    "    mk = [phase_ind == j for j in range(nbins)]    \n",
    "    #---\n",
    "    bin_time = np.array([len(cts[mk[k]]) * dt for k in range(nbins)])\n",
    "    #---    \n",
    "    if cts_err is None:    \n",
    "        bin_cts = np.array([cts[mk[k]].sum() for k in range(nbins)])\n",
    "        bin_cts_err = np.sqrt(bin_cts)\n",
    "\n",
    "        bin_cts = bin_cts/bin_time\n",
    "        bin_cts_err = bin_cts_err/bin_time\n",
    "    else:\n",
    "        bin_cts = np.array([cts[mk[k]].sum() for k in range(nbins)])\n",
    "        bin_cts_err = np.array([np.sqrt((cts_err[mk[k]]**2).sum()) for k in range(nbins)])\n",
    "\n",
    "        bin_cts = bin_cts/bin_time\n",
    "        bin_cts_err = bin_cts_err/bin_time  \n",
    "    \n",
    "    #---\n",
    "    bin_phase = np.linspace(0, 1, nbins + 1)\n",
    "    bin_phase = (bin_phase[1:] + bin_phase[:-1])/2.    \n",
    "    return bin_phase, bin_cts, bin_cts_err#unit: cts/s"
   ]
  },
  {
   "cell_type": "code",
   "execution_count": 5,
   "id": "959a6647-c87b-4eb5-8942-0dc8e22eaa01",
   "metadata": {},
   "outputs": [],
   "source": [
    "def efold_search(time, cts, prange, ref=0, cts_err = None, nbins = 16, dt = 1):\n",
    "    def const(x, a):\n",
    "        return a    \n",
    "    time = time - ref\n",
    "    chi2 = np.zeros(len(prange))\n",
    "    for i, p in enumerate(prange):\n",
    "#         print(i)\n",
    "        bin_phase, bin_cts, bin_cts_err = efold(time, cts, p, nbins = nbins, dt = dt, cts_err = cts_err)\n",
    "        #---\n",
    "        popt, pcov = curve_fit(const, bin_phase, bin_cts, sigma = bin_cts_err, p0 = [bin_cts.mean()])\n",
    "        model = popt[0]\n",
    "        chi2[i] = (((model - bin_cts) / bin_cts_err)**2).sum()        \n",
    "    #---------------------------\n",
    "    return prange, chi2"
   ]
  },
  {
   "cell_type": "code",
   "execution_count": 6,
   "id": "be12a054-4e0b-4750-a1ce-6d74220cbd80",
   "metadata": {},
   "outputs": [],
   "source": [
    "# method 2: Z2, explain how to estimate the error; how to choose the Zorder, although it is useless for this work\n",
    "# (http://adsabs.harvard.edu/abs/1983A%26A...128..245B)\n",
    "def calc_phase(time, period, timestart=0):\n",
    "    time=time-timestart\n",
    "    phase = np.mod(time, period)*1.0/period\n",
    "    return phase\n",
    "def calc_z2(phase, Zorder, norm):\n",
    "    z2 = STpulse.z_n(phase, n=Zorder, norm=norm)\n",
    "    return z2\n",
    "# method 3: phase-connection ??"
   ]
  },
  {
   "cell_type": "code",
   "execution_count": 7,
   "id": "31a0d9e0-d081-4a9c-8acf-36687844c9ea",
   "metadata": {},
   "outputs": [
    {
     "name": "stdout",
     "output_type": "stream",
     "text": [
      "/Volumes/WD_BLACK/Data/4U1626m67/NuSTAR/90901318004_out/nu90901318004A01_cl_bary.evt\n",
      "55197.00076601852\n"
     ]
    }
   ],
   "source": [
    "path = \"/Volumes/WD_BLACK/Data/4U1626m67/NuSTAR\"\n",
    "obsid = 90901318004\n",
    "input = \"%s/%s_out/nu%sA01_cl_bary.evt\"%(path,obsid,obsid)\n",
    "output= input\n",
    "orbitfile = \"%s/%s_out/nu%sA.attorb\"%(path,obsid,obsid)\n",
    "#print(infile)\n",
    "mjdref = pyfits.open(input)[1].header['mjdrefi']+pyfits.open(input)[1].header['mjdreff']\n",
    "#t = pyfits.open(infile)[1].data['time']\n",
    "print(input)\n",
    "print(mjdref)"
   ]
  },
  {
   "cell_type": "code",
   "execution_count": 8,
   "id": "e6f9755e-5117-4909-8de4-ec363fb53df2",
   "metadata": {},
   "outputs": [
    {
     "name": "stdout",
     "output_type": "stream",
     "text": [
      "40.918437 61.434377\n",
      "barycorr ra=40.918437 dec=61.434377 refframe=ICRS infile=/Volumes/WD_BLACK/Data/4U1626m67/NuSTAR/90901318004_out/nu90901318004A01_cl_bary.evt outfile=/Volumes/WD_BLACK/Data/4U1626m67/NuSTAR/90901318004_out/nu90901318004A01_cl_bary.evt orbitfiles=/Volumes/WD_BLACK/Data/4U1626m67/NuSTAR/90901318004_out/nu90901318004A.attorb\n"
     ]
    }
   ],
   "source": [
    "#barycen:\n",
    "hxbary(input,output,orbitfile)"
   ]
  },
  {
   "cell_type": "raw",
   "id": "1769facf-f8d0-4ed6-8b03-064a47f86bd3",
   "metadata": {},
   "source": [
    "tstart=pyfits.open(input)[1].header['TSTART']\n",
    "t0 = pyfits.open(input)[1].data['TIME']+tstart\n",
    "t = pyfits.open(output)[1].data['TIME']+tstart\n",
    "c = pyfits.open(output)[1].data['RATE']\n",
    "cerr = pyfits.open(output)[1].data['ERROR']\n",
    "timedel=pyfits.open(output)[1].header['timedel']\n",
    "print(timedel,np.mean(c))\n",
    "gti = np.array(pyfits.open(output)[2].data.tolist())\n",
    "#gti = pyfits.open(input)[2].data\n",
    "#gti = [[row['START'], row['STOP']] for row in gti]\n",
    "#t_binCor = binCor(t,mjdref)\n",
    "#Tobs2Tpulsar = interpolate.interp1d(t, t_binCor, fill_value='extrapolate', kind='linear')\n",
    "#gti_binCor = Tobs2Tpulsar(gti)"
   ]
  },
  {
   "cell_type": "code",
   "execution_count": 9,
   "id": "6552a177-f99c-4c35-a02c-e57d1d19bd66",
   "metadata": {},
   "outputs": [],
   "source": [
    "#read event files\n",
    "tstart=pyfits.open(input)[1].header['TSTART']\n",
    "#t0 = pyfits.open(input)[1].data['TIME']+tstart\n",
    "t = pyfits.open(output)[1].data['TIME']\n",
    "gti = np.array(pyfits.open(output)[2].data.tolist())\n",
    "#gti = pyfits.open(input)[2].data\n",
    "#gti = [[row['START'], row['STOP']] for row in gti]\n",
    "#t_binCor = binCor(t,mjdref)\n",
    "#Tobs2Tpulsar = interpolate.interp1d(t, t_binCor, fill_value='extrapolate', kind='linear')\n",
    "#gti_binCor = Tobs2Tpulsar(gti)\n",
    "time=t"
   ]
  },
  {
   "cell_type": "raw",
   "id": "e75f213b-ce06-4f42-bb44-8dfdbfb0ba7d",
   "metadata": {},
   "source": [
    "#step 1: searching for the spin period:\n",
    "#how to choose the resolution?\n",
    "dp = 7.67**2/(time.max()-time.min())/2./3.\n",
    "#dp = 1e-5\n",
    "print(dp)\n",
    "prange = np.arange(7.65, 7.69, dp) #explain why\n",
    "print(prange.shape)\n",
    "\n",
    "\n",
    "# efolding method, an example for binned data\n",
    "prange, chi2 = efold_search(time, cts, prange, ref=0, cts_err = cts_err, nbins = 16, dt = timedel)\n",
    "period = prange[np.argmax(chi2)]\n",
    "print(period)\n",
    "plt.errorbar(prange, chi2)\n",
    "plt.xlabel('period')\n",
    "plt.ylabel('$\\mathbf{\\chi^2}$')\n",
    "plt.axvline(period, lw=3, alpha=0.5, color='r', label='Correct frequency')\n",
    "plt.show()"
   ]
  },
  {
   "cell_type": "code",
   "execution_count": 12,
   "id": "7999cb8c-c7cc-4418-8756-a5b739309cb3",
   "metadata": {},
   "outputs": [
    {
     "name": "stdout",
     "output_type": "stream",
     "text": [
      "0.00030183970693459364\n",
      "(133,)\n"
     ]
    },
    {
     "data": {
      "image/png": "[encoded data removed]",
      "text/plain": [
       "<Figure size 350x262.5 with 1 Axes>"
      ]
     },
     "metadata": {},
     "output_type": "display_data"
    },
    {
     "name": "stdout",
     "output_type": "stream",
     "text": [
      "7.667808542709138 0.13041535849911645\n"
     ]
    }
   ],
   "source": [
    "#---------------------------------------------------\n",
    "dp = 7.67**2/(time.max()-time.min())/2./3.\n",
    "print(dp)\n",
    "prange = np.arange(7.65, 7.69, dp) #explain why\n",
    "print(prange.shape)\n",
    "#Z2 method, an example for unbinned data\n",
    "z2 = []\n",
    "for p in prange:\n",
    "     phase = calc_phase(time, p)\n",
    "     z2.append(calc_z2(phase, 4, norm=1))\n",
    "\n",
    "plt.errorbar(prange, z2)\n",
    "period = prange[np.argmax(z2)]\n",
    "plt.axvline(period, lw=3, alpha=0.5, color='r', label='Correct frequency')\n",
    "plt.xlabel('period')\n",
    "plt.ylabel('Power')\n",
    "plt.show()\n",
    "period = prange[np.argmax(z2)]\n",
    "print(period,1/period)\n",
    "\n",
    "# method 3: phase-connection ??"
   ]
  },
  {
   "cell_type": "raw",
   "id": "ee11df4f-9849-4ff1-9e8e-10e653f73c92",
   "metadata": {},
   "source": [
    "#step 2: fold the lightcurve/events   \n",
    "nbins = 32\n",
    "#an example, binned data\n",
    "phase_bins, profile, profile_err= efold(time-time[0]+0.27*period, cts, period, nbins = nbins, dt = dt, cts_err = cts_err)\n",
    "# f0=1/period\n",
    "# phase=f0*(time-time[0])\n",
    "# template =scipy.stats.binned_statistic(phase%1,cts,bins=nbins,statistic='mean')\n",
    "# phase_bins, profile=template[1][1:], template[0]\n",
    "#an example, unbinned data\n",
    "#phase_bins, profile, profile_err = STpulse.fold_events(time, 1./period, nbin = nbins)\n",
    "#how to plot? https://matplotlib.org/gallery/index.html\n",
    "#profile_mean=np.mean(profile)\n",
    "#profile=profile/profile_mean\n",
    "#profile_err=profile_err/profile_mean\n",
    "plt.errorbar(np.hstack([phase_bins, phase_bins +1]), np.hstack([profile, profile]),\\\n",
    "             yerr = np.hstack([profile_err, profile_err]),fmt = '-')\n",
    "#plt.errorbar(np.hstack([phase_bins, phase_bins +1]), np.hstack([profile, profile]),drawstyle='steps-mid')\n",
    "plt.xlabel('phase', color = 'green')\n",
    "plt.ylabel('$\\mathbf{Counts}$', fontsize = 20)\n",
    "plt.show()\n",
    "rms=(profile.max()-profile.min())/(profile.max()+profile.min())\n",
    "print(rms)\n",
    "profile0=profile"
   ]
  },
  {
   "cell_type": "code",
   "execution_count": 20,
   "id": "aaeadfb7-7cc3-4862-b8df-8a45a03b78ae",
   "metadata": {},
   "outputs": [
    {
     "data": {
      "image/png": "[encoded data removed]",
      "text/plain": [
       "<Figure size 350x262.5 with 1 Axes>"
      ]
     },
     "metadata": {},
     "output_type": "display_data"
    },
    {
     "name": "stdout",
     "output_type": "stream",
     "text": [
      "0.2874880611270296\n"
     ]
    }
   ],
   "source": [
    "#step 2: fold the lightcurve/events   \n",
    "nbins = 64\n",
    "#an example, binned data\n",
    "# phase_bins, profile, profile_err= efold(lctime, cts, period, nbins = nbins, dt = timedel, cts_err = cts_err)\n",
    "\n",
    "#an example, unbinned data\n",
    "phase_bins, profile, profile_err = STpulse.fold_events(time-time[0]+0.35*period, 1./period, nbin = nbins)\n",
    "plt.errorbar(np.hstack([phase_bins, phase_bins +1]), np.hstack([profile, profile]),\\\n",
    "             yerr = np.hstack([profile_err, profile_err]),fmt = '-')\n",
    "plt.xlabel('Phase', fontsize = 20)\n",
    "plt.ylabel('Counts', fontsize = 20)\n",
    "plt.show()\n",
    "rms=(profile.max()-profile.min())/(profile.max()+profile.min())\n",
    "print(rms)\n",
    "profile0=profile"
   ]
  },
  {
   "cell_type": "code",
   "execution_count": 21,
   "id": "198340e4-015d-466e-adb1-d859ef03e9c4",
   "metadata": {},
   "outputs": [
    {
     "data": {
      "text/plain": [
       "(array([0.0078125, 0.0234375, 0.0390625, 0.0546875, 0.0703125, 0.0859375,\n",
       "        0.1015625, 0.1171875, 0.1328125, 0.1484375, 0.1640625, 0.1796875,\n",
       "        0.1953125, 0.2109375, 0.2265625, 0.2421875, 0.2578125, 0.2734375,\n",
       "        0.2890625, 0.3046875, 0.3203125, 0.3359375, 0.3515625, 0.3671875,\n",
       "        0.3828125, 0.3984375, 0.4140625, 0.4296875, 0.4453125, 0.4609375,\n",
       "        0.4765625, 0.4921875, 0.5078125, 0.5234375, 0.5390625, 0.5546875,\n",
       "        0.5703125, 0.5859375, 0.6015625, 0.6171875, 0.6328125, 0.6484375,\n",
       "        0.6640625, 0.6796875, 0.6953125, 0.7109375, 0.7265625, 0.7421875,\n",
       "        0.7578125, 0.7734375, 0.7890625, 0.8046875, 0.8203125, 0.8359375,\n",
       "        0.8515625, 0.8671875, 0.8828125, 0.8984375, 0.9140625, 0.9296875,\n",
       "        0.9453125, 0.9609375, 0.9765625, 0.9921875]),\n",
       " array([1503., 1610., 1544., 1694., 1846., 2094., 2102., 1970., 2019.,\n",
       "        2140., 2094., 2154., 2334., 2275., 2247., 2386., 2441., 2353.,\n",
       "        2350., 2382., 2406., 2484., 2461., 2438., 2378., 2386., 2410.,\n",
       "        2433., 2537., 2479., 2569., 2567., 2577., 2551., 2656., 2696.,\n",
       "        2572., 2684., 2594., 2603., 2602., 2528., 2529., 2405., 2412.,\n",
       "        2360., 2421., 2435., 2416., 2338., 2225., 2210., 2223., 2157.,\n",
       "        2107., 2065., 2138., 2219., 2185., 1937., 1680., 1645., 1571.,\n",
       "        1492.]))"
      ]
     },
     "execution_count": 21,
     "metadata": {},
     "output_type": "execute_result"
    }
   ],
   "source": [
    "phase_bins, profile"
   ]
  },
  {
   "cell_type": "code",
   "execution_count": 14,
   "id": "4b0b31bf-c3d1-4d32-be18-8489ab301108",
   "metadata": {},
   "outputs": [],
   "source": [
    "# phase_bins0, profile0, profile_err0= efold(time-0.55*period, cts, period, nbins = nbins, dt = timedel, cts_err = cts_err)\n",
    "#phase_bins, profile, profile_err= efold(time-time[0], cts, period, nbins = nbins, dt = timedel, cts_err = cts_err)\n",
    "phase_bins, profile, profile_err = STpulse.fold_events(time-time[0], 1./period, nbin = nbins)\n",
    "dphi,dphie = transpose(fftfit(profile,template=profile0)[2:])\n",
    "toa, toae = np.array(time[0])+dphi*(period), dphie*(period)"
   ]
  },
  {
   "cell_type": "code",
   "execution_count": 15,
   "id": "ea1cb17c-57bb-4ee8-a72d-e669faa09019",
   "metadata": {},
   "outputs": [
    {
     "data": {
      "text/plain": [
       "60083.54341792225"
      ]
     },
     "execution_count": 15,
     "metadata": {},
     "output_type": "execute_result"
    }
   ],
   "source": [
    "toa/86400+mjdref"
   ]
  },
  {
   "cell_type": "code",
   "execution_count": 16,
   "id": "f7ff1f7a-f157-469b-9d0d-d1a9bc4b9dd3",
   "metadata": {},
   "outputs": [
    {
     "data": {
      "text/plain": [
       "422197285.1244822"
      ]
     },
     "execution_count": 16,
     "metadata": {},
     "output_type": "execute_result"
    }
   ],
   "source": [
    "toa"
   ]
  },
  {
   "cell_type": "code",
   "execution_count": null,
   "id": "e7650380-7d97-4c8b-9b10-525adcf83b88",
   "metadata": {},
   "outputs": [],
   "source": [
    "phase_bins, profile, profile_err= efold(time-toa, cts, period, nbins = nbins, dt = timedel, cts_err = cts_err)\n",
    "plt.errorbar(np.hstack([phase_bins, phase_bins +1]), np.hstack([profile, profile]),\\\n",
    "             yerr = np.hstack([profile_err, profile_err]),fmt = '-')\n",
    "#plt.errorbar(np.hstack([phase_bins, phase_bins +1]), np.hstack([profile, profile]),drawstyle='steps-mid')\n",
    "plt.xlabel('phase', color = 'green')\n",
    "plt.ylabel('$\\mathbf{Counts}$', fontsize = 20)\n",
    "plt.show()"
   ]
  },
  {
   "cell_type": "code",
   "execution_count": null,
   "id": "ebba67f5-0a1a-4167-b388-dd063bbed84d",
   "metadata": {},
   "outputs": [],
   "source": [
    "time[0],422197285.1244822"
   ]
  },
  {
   "cell_type": "code",
   "execution_count": null,
   "id": "1af1361a-50cf-4ac6-af02-2d645969630d",
   "metadata": {},
   "outputs": [],
   "source": [
    "422197287.80807304"
   ]
  },
  {
   "cell_type": "code",
   "execution_count": null,
   "id": "c6824f38-674b-4baf-949a-7b560fdf2b6d",
   "metadata": {},
   "outputs": [],
   "source": [
    "422197658.889743"
   ]
  }
 ],
 "metadata": {
  "kernelspec": {
   "display_name": "Python 3 (ipykernel)",
   "language": "python",
   "name": "python3"
  },
  "language_info": {
   "codemirror_mode": {
    "name": "ipython",
    "version": 3
   },
   "file_extension": ".py",
   "mimetype": "text/x-python",
   "name": "python",
   "nbconvert_exporter": "python",
   "pygments_lexer": "ipython3",
   "version": "3.11.6"
  }
 },
 "nbformat": 4,
 "nbformat_minor": 5
}

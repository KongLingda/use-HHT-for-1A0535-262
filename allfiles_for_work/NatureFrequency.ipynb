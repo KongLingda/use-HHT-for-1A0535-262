{
 "cells": [
  {
   "cell_type": "code",
   "execution_count": 886,
   "id": "3b205162-fbb9-42e9-9aee-c10bfe37c4b2",
   "metadata": {},
   "outputs": [
    {
     "name": "stdout",
     "output_type": "stream",
     "text": [
      "dot_M: 1.345e+17 cm\n",
      "k: 1.500e-04 cm\n",
      "R_m: 4.230e+08 cm\n",
      "H_m_over_R_m: 1.194e-01 \n",
      "d: 5.807e+03 cm\n",
      "S_D: 3.169e+09 cm^2\n",
      "r_0: 4.862e+04 cm\n",
      "S_W: 1.447e+10 cm^2\n",
      "v_ff: 1.928e+10 cm/s\n",
      "frequency_D: 37.855 mHz.\n",
      "frequency_W: 2.116 mHz.\n"
     ]
    }
   ],
   "source": [
    "import numpy as np\n",
    "#changing parameters\n",
    "a = 7.57e-15 # erg cm^-3 K^-4\n",
    "B_12 = 47/11.6  # magnetic field strength (10^12 G units)\n",
    "L_37 = 2.5  # luminosity (10^37 erg/s units)\n",
    "alpha = 0.1  # alpha parameter for the thin disk\n",
    "w = 1\n",
    "k = 1.5e-4  # assuming k is 1 for this estimation\n",
    "dot_M = L_37 * 1e37 * R_0 / (G * M_0)\n",
    "print(f\"dot_M: {dot_M:.3e} cm\")\n",
    "# Given constants in CGS units\n",
    "mu_e = 1.18\n",
    "m_p = 1.67e-24  # g\n",
    "G = 6.674e-8  # cm^3 g^-1 s^-2\n",
    "sigma_T = 6.65e-25  # cm^2\n",
    "c = 3e10  # cm/s\n",
    "\n",
    "# Assumed parameters for the specific neutron star\n",
    "Lambda = 0.5  # geometric factor\n",
    "m = 1.4  # neutron star mass (solar masses)\n",
    "R_6 = 1  # neutron star radius (10^6 cm units)\n",
    "# Neutron star properties\n",
    "R_0 = R_6 * 1e6  # cm (example neutron star radius)\n",
    "M_0 = m * 1.989e33  # g (1.4 times the mass of the sun)\n",
    "#k = 0.106 * (Lambda / 0.1)**(1/2) * w**2 * (m / 1.4)**(-5/28) * (R_6 / 10)**(-15/28) * B_12**(-12/7) * L_37**(5/14)\n",
    "print(f\"k: {k:.3e} cm\")\n",
    "\n",
    "\n",
    "\n",
    "# Calculate R_m\n",
    "R_m = 2.6e8 * Lambda**(1/7) * m**(1/7) * R_6**(10/7) * B_12**(4/7) * L_37**(-2/7)  # cm\n",
    "print(f\"R_m: {R_m:.3e} cm\")\n",
    "\n",
    "\n",
    "H_m_over_R_m = 0.1 * alpha**(-1/10) * Lambda**(1/8) * m**(-71/140) * R_6**(23/70) * B_12**(1/14) * L_37**(4/35)\n",
    "print(f\"H_m_over_R_m: {H_m_over_R_m:.3e} \")\n",
    "\n",
    "# for disk accretion \n",
    "d = np.sqrt(R_0**3 / R_m) * H_m_over_R_m\n",
    "print(f\"d: {d:.3e} cm\")\n",
    "S_D = 3e9 * Lambda**(-7/8) * m**(-13/20) * R_6**(19/10) * B_12**(-1/2) * L_37**(2/5)\n",
    "print(f\"S_D: {S_D:.3e} cm^2\")\n",
    "\n",
    "# for wind accretion\n",
    "r_0 = np.sqrt(R_0**3 / R_m)\n",
    "print(f\"r_0: {r_0:.3e} cm\")\n",
    "S_W = 1.3e10 * Lambda**(-1) * m**(-1/7) * R_6**(11/7) * B_12**(-4/7) * L_37**(2/7)\n",
    "print(f\"S_W: {S_W:.3e} cm^2\")\n",
    "\n",
    "\n",
    "# Calculate free-fall velocity using the given formula\n",
    "v_ff = np.sqrt(2 * G * M_0 / R_0)\n",
    "print(f\"v_ff: {v_ff:.3e} cm/s\")\n",
    "# Effective cross-section\n",
    "sigma_eff = k * sigma_T\n",
    "\n",
    "# Effective opacity\n",
    "kappa_eff = sigma_eff / (mu_e * m_p)\n",
    "\n",
    "# Calculating the natural frequency omega\n",
    "omega_D = np.sqrt((kappa_eff * v_ff * G * M_0) / (R_0 * S_D * c * d**2))\n",
    "\n",
    "omega_W = np.sqrt((kappa_eff * v_ff * G * M_0) / (R_0 * S_W * c * r_0**2))\n",
    "# Converting omega to frequency in Hz\n",
    "frequency_D = 1000*omega_D / (2 * np.pi)\n",
    "frequency_W = 1000*omega_W / (2 * np.pi)\n",
    "# Output the frequency\n",
    "print(f\"frequency_D: {frequency_D:.3f} mHz.\")\n",
    "print(f\"frequency_W: {frequency_W:.3f} mHz.\")"
   ]
  },
  {
   "cell_type": "code",
   "execution_count": 887,
   "id": "06825383-9092-44fb-b3f5-c38b9824e344",
   "metadata": {},
   "outputs": [
    {
     "name": "stdout",
     "output_type": "stream",
     "text": [
      "Estimated t_r: 193.6544389422609 s\n"
     ]
    }
   ],
   "source": [
    "# Define the variables for the calculation\n",
    "B = 47/11.6 * 1e12  # Magnetic field in Gauss\n",
    "A_perp_R_star = np.pi * r_0**2  # Area in cm^2\n",
    "R_star = 10 * 1e5  # Radius in cm\n",
    "dot_M = 1.35 * 10**17  # Mass accretion rate in g/s\n",
    "\n",
    "# Given constant factor\n",
    "constant_factor = 340\n",
    "\n",
    "# Calculate t_r using the given formula\n",
    "t_r = constant_factor * (B / 1e12)**2 * (A_perp_R_star / 1e12) * (R_star / 1e6)**2 * (6.307 * 10**17 / dot_M)\n",
    "\n",
    "print(f\"Estimated t_r: {t_r} s\")"
   ]
  },
  {
   "cell_type": "code",
   "execution_count": 895,
   "id": "2e966def-647c-4bd7-9178-dfea7df4b0c9",
   "metadata": {},
   "outputs": [
    {
     "data": {
      "text/plain": [
       "85948.82506325406"
      ]
     },
     "execution_count": 895,
     "metadata": {},
     "output_type": "execute_result"
    }
   ],
   "source": [
    "k = 0.02\n",
    "0.25 * (1/k)**(1/2) * r_0"
   ]
  },
  {
   "cell_type": "code",
   "execution_count": 796,
   "id": "0492c233-d1e7-4d26-9c90-4f5274bf0de8",
   "metadata": {},
   "outputs": [
    {
     "name": "stdout",
     "output_type": "stream",
     "text": [
      "The estimated effective temperature T_eff^D is approximately 8.19 keV.\n",
      "5.1e-05 5.061910078148786e-05\n"
     ]
    },
    {
     "data": {
      "text/plain": [
       "2.0204790474840272e+39"
      ]
     },
     "execution_count": 796,
     "metadata": {},
     "output_type": "execute_result"
    }
   ],
   "source": [
    "T_eff_D = 6.6 * Lambda**(7/32) * m**(13/80) * R_6**(-19/40) * B_12**(1/8) * L_37**(3/20)\n",
    "\n",
    "# Output the effective temperature\n",
    "print(f\"The estimated effective temperature T_eff^D is approximately {T_eff_D:.2f} keV.\")\n",
    "kappa_T = 0.34\n",
    "print(kappa_T*k,kappa_eff)\n",
    "#L_crit = (c / kappa_eff) * (np.pi * d) * (G * M_0 / R_0)\n",
    "L_crit = 3.7e36 * (kappa_T/kappa_eff) * (d / 1e5 / R_6) * m\n",
    "#L_crit = S_D * (c / kappa_eff) * (v_ff**2 / d)\n",
    "L_crit"
   ]
  },
  {
   "cell_type": "code",
   "execution_count": 799,
   "id": "88d24289-507b-4cf6-91f7-d489ac690062",
   "metadata": {},
   "outputs": [
    {
     "name": "stdout",
     "output_type": "stream",
     "text": [
      "B: 4.052e+12 G.\n",
      "dot_M: 1.345e+17 g/s\n",
      "The calculated value of A_perp is approximately 1.09e+09 cm^2.\n"
     ]
    }
   ],
   "source": [
    "# Given values\n",
    "B = B_12 * 1e12  # Magnetic field in Gauss\n",
    "print(f\"B: {B:.3e} G.\")\n",
    "# Normalization values\n",
    "B_norm = 10**12  # G\n",
    "A_perp_norm = 10**12  # cm^2\n",
    "R_star_norm = 10 * 10**5  # cm\n",
    "M_dot_norm = 10**-8 * 1.989e33 / 3.15576e7  # g/s\n",
    "print(f\"dot_M: {dot_M:.3e} g/s\")\n",
    "# Calculate t_r\n",
    "#t_r = 340 * (B / B_norm)**2 * (S_D / A_perp_norm) * (R_0 / R_star_norm)**2 * (M_dot_norm / dot_M)\n",
    "t_r = 1/0.035\n",
    "A_perp = t_r / 340 * (B_norm / B)**2 * (R_star / R_star_norm)**2 * (dot_M / M_dot_norm) * 10**12  # cm^2\n",
    "# Output the result\n",
    "#print(f\"The calculated value of t_r is approximately {t_r:.2f} seconds.\")\n",
    "print(f\"The calculated value of A_perp is approximately {A_perp:.2e} cm^2.\")"
   ]
  },
  {
   "cell_type": "code",
   "execution_count": 800,
   "id": "4e1b5ee4-02cf-4ab8-a210-b36ca885fbfc",
   "metadata": {},
   "outputs": [
    {
     "name": "stdout",
     "output_type": "stream",
     "text": [
      "k: 4.000e-03 cm\n",
      "R_m: 2.568e+08 cm\n",
      "H_m_over_R_m: 1.420e-01 \n",
      "d: 8.860e+03 cm\n",
      "S_D: 6.204e+09 cm^2\n",
      "r_0: 6.240e+04 cm\n",
      "S_W: 2.384e+10 cm^2\n",
      "v_ff: 1.928e+10 cm/s\n",
      "frequency_D: 91.570 mHz.\n",
      "frequency_W: 6.633 mHz.\n"
     ]
    }
   ],
   "source": [
    "import numpy as np\n",
    "#changing parameters\n",
    "k = 4e-3  # assuming k is 1 for this estimation\n",
    "B_12 = 43/11.6  # magnetic field strength (10^12 G units)\n",
    "L_37 = 12  # luminosity (10^37 erg/s units)\n",
    "alpha = 0.1  # alpha parameter for the thin disk\n",
    "w = 1\n",
    "dot_M = L_37 * 1e37 * R_0 / (G * M_0)\n",
    "\n",
    "\n",
    "# Given constants in CGS units\n",
    "mu_e = 1.18\n",
    "m_p = 1.67e-24  # g\n",
    "G = 6.674e-8  # cm^3 g^-1 s^-2\n",
    "sigma_T = 6.65e-25  # cm^2\n",
    "c = 3e10  # cm/s\n",
    "\n",
    "# Assumed parameters for the specific neutron star\n",
    "Lambda = 0.5  # geometric factor\n",
    "m = 1.4  # neutron star mass (solar masses)\n",
    "R_6 = 1  # neutron star radius (10^6 cm units)\n",
    "# Neutron star properties\n",
    "R_0 = R_6 * 1e6  # cm (example neutron star radius)\n",
    "M_0 = m * 1.989e33  # g (1.4 times the mass of the sun)\n",
    "#k = 0.106 * (Lambda / 0.1)**(1/2) * w**2 * (m / 1.4)**(-5/28) * (R_6 / 10)**(-15/28) * B_12**(-12/7) * L_37**(5/14)\n",
    "print(f\"k: {k:.3e} cm\")\n",
    "\n",
    "\n",
    "\n",
    "# Calculate R_m\n",
    "R_m = 2.6e8 * Lambda**(1/7) * m**(1/7) * R_6**(10/7) * B_12**(4/7) * L_37**(-2/7)  # cm\n",
    "print(f\"R_m: {R_m:.3e} cm\")\n",
    "\n",
    "\n",
    "H_m_over_R_m = 0.1 * alpha**(-1/10) * Lambda**(1/8) * m**(-71/140) * R_6**(23/70) * B_12**(1/14) * L_37**(4/35)\n",
    "print(f\"H_m_over_R_m: {H_m_over_R_m:.3e} \")\n",
    "\n",
    "# for disk accretion \n",
    "d = np.sqrt(R_0**3 / R_m) * H_m_over_R_m\n",
    "print(f\"d: {d:.3e} cm\")\n",
    "S_D = 3e9 * Lambda**(-7/8) * m**(-13/20) * R_6**(19/10) * B_12**(-1/2) * L_37**(2/5)\n",
    "print(f\"S_D: {S_D:.3e} cm^2\")\n",
    "\n",
    "# for wind accretion\n",
    "r_0 = np.sqrt(R_0**3 / R_m)\n",
    "print(f\"r_0: {r_0:.3e} cm\")\n",
    "S_W = 1.3e10 * Lambda**(-1) * m**(-1/7) * R_6**(11/7) * B_12**(-4/7) * L_37**(2/7)\n",
    "print(f\"S_W: {S_W:.3e} cm^2\")\n",
    "\n",
    "\n",
    "# Calculate free-fall velocity using the given formula\n",
    "v_ff = np.sqrt(2 * G * M_0 / R_0)\n",
    "print(f\"v_ff: {v_ff:.3e} cm/s\")\n",
    "# Effective cross-section\n",
    "sigma_eff = k * sigma_T\n",
    "\n",
    "# Effective opacity\n",
    "kappa_eff = sigma_eff / (mu_e * m_p)\n",
    "\n",
    "# Calculating the natural frequency omega\n",
    "omega_D = np.sqrt((kappa_eff * v_ff * G * M_0) / (R_0 * S_D * c * d**2))\n",
    "\n",
    "omega_W = np.sqrt((kappa_eff * v_ff * G * M_0) / (R_0 * S_W * c * r_0**2))\n",
    "# Converting omega to frequency in Hz\n",
    "frequency_D = 1000*omega_D / (2 * np.pi)\n",
    "frequency_W = 1000*omega_W / (2 * np.pi)\n",
    "# Output the frequency\n",
    "print(f\"frequency_D: {frequency_D:.3f} mHz.\")\n",
    "print(f\"frequency_W: {frequency_W:.3f} mHz.\")"
   ]
  },
  {
   "cell_type": "code",
   "execution_count": 801,
   "id": "da0b0b52-3012-4be2-9139-01ef26d63135",
   "metadata": {},
   "outputs": [
    {
     "name": "stdout",
     "output_type": "stream",
     "text": [
      "The estimated effective temperature T_eff^D is approximately 10.24 keV.\n",
      "0.00136 0.0013498426875063433\n"
     ]
    },
    {
     "data": {
      "text/plain": [
       "1.155951641742096e+38"
      ]
     },
     "execution_count": 801,
     "metadata": {},
     "output_type": "execute_result"
    }
   ],
   "source": [
    "T_eff_D = 6.6 * Lambda**(7/32) * m**(13/80) * R_6**(-19/40) * B_12**(1/8) * L_37**(3/20)\n",
    "\n",
    "# Output the effective temperature\n",
    "print(f\"The estimated effective temperature T_eff^D is approximately {T_eff_D:.2f} keV.\")\n",
    "kappa_T = 0.34\n",
    "print(kappa_T*k,kappa_eff)\n",
    "#L_crit = (c / kappa_eff) * (np.pi * d) * (G * M_0 / R_0)\n",
    "L_crit = 3.7e36 * (kappa_T/kappa_eff) * (d / 1e5 / R_6) * m\n",
    "#L_crit = S_D * (c / kappa_eff) * (v_ff**2 / d)\n",
    "L_crit"
   ]
  },
  {
   "cell_type": "code",
   "execution_count": 803,
   "id": "a2caa1c4-40aa-4e12-b09f-9cfa0baf3d7d",
   "metadata": {},
   "outputs": [
    {
     "name": "stdout",
     "output_type": "stream",
     "text": [
      "B: 3.707e+12 G.\n",
      "dot_M: 6.457e+17 g/s\n",
      "The calculated value of A_perp is approximately 2.52e+09 cm^2.\n"
     ]
    }
   ],
   "source": [
    "# Given values\n",
    "B = B_12 * 1e12  # Magnetic field in Gauss\n",
    "print(f\"B: {B:.3e} G.\")\n",
    "# Normalization values\n",
    "B_norm = 10**12  # G\n",
    "A_perp_norm = 10**12  # cm^2\n",
    "R_star_norm = 10 * 10**5  # cm\n",
    "M_dot_norm = 10**-8 * 1.989e33 / 3.15576e7  # g/s\n",
    "print(f\"dot_M: {dot_M:.3e} g/s\")\n",
    "# Calculate t_r\n",
    "#t_r = 340 * (B / B_norm)**2 * (S_D / A_perp_norm) * (R_0 / R_star_norm)**2 * (M_dot_norm / dot_M)\n",
    "t_r = 1/0.087\n",
    "A_perp = t_r / 340 * (B_norm / B)**2 * (R_star / R_star_norm)**2 * (dot_M / M_dot_norm) * 10**12  # cm^2\n",
    "# Output the result\n",
    "#print(f\"The calculated value of t_r is approximately {t_r:.2f} seconds.\")\n",
    "print(f\"The calculated value of A_perp is approximately {A_perp:.2e} cm^2.\")"
   ]
  },
  {
   "cell_type": "code",
   "execution_count": 805,
   "id": "44484f1c-30b8-408a-a8d7-d991fc3ae87f",
   "metadata": {},
   "outputs": [
    {
     "name": "stdout",
     "output_type": "stream",
     "text": [
      "3.706896551724138\n"
     ]
    },
    {
     "data": {
      "text/plain": [
       "713.7000045555006"
      ]
     },
     "execution_count": 805,
     "metadata": {},
     "output_type": "execute_result"
    }
   ],
   "source": [
    "print(B_12)\n",
    "t_ocean = 100 * (B_12)**(3/2.)\n",
    "t_ocean"
   ]
  },
  {
   "cell_type": "code",
   "execution_count": 845,
   "id": "aa6f2e73-d9f2-4ff0-99eb-dbd144425c31",
   "metadata": {},
   "outputs": [
    {
     "name": "stdout",
     "output_type": "stream",
     "text": [
      "tau_star = 0.0436\n",
      "mu'(0) = -2.9700\n"
     ]
    }
   ],
   "source": [
    "import numpy as np\n",
    "\n",
    "# Given value for epsilon_c\n",
    "epsilon_c = 0.53\n",
    "\n",
    "# Calculate tau_star\n",
    "tau_star = (2 / 7) * np.arctanh(2 / 7 * epsilon_c)\n",
    "\n",
    "# Calculate sech^2(x)\n",
    "def sech2(x):\n",
    "    return (2 / (np.exp(x) + np.exp(-x)))**2\n",
    "\n",
    "# Calculate mu'(0)\n",
    "mu_prime_0 = (7 / (2 * epsilon_c + 7)) * (-7 / 2) * sech2((7 / 2) * tau_star)\n",
    "\n",
    "# Output the results\n",
    "print(f\"tau_star = {tau_star:.4f}\")\n",
    "print(f\"mu'(0) = {mu_prime_0:.4f}\")"
   ]
  },
  {
   "cell_type": "code",
   "execution_count": 851,
   "id": "f198d2e0-0cb8-4ea0-9453-de299f86da79",
   "metadata": {},
   "outputs": [
    {
     "name": "stdout",
     "output_type": "stream",
     "text": [
      "0.53 0.5833333333333334\n"
     ]
    },
    {
     "data": {
      "image/png": "[encoded data removed]",
      "text/plain": [
       "<Figure size 1000x600 with 1 Axes>"
      ]
     },
     "metadata": {},
     "output_type": "display_data"
    },
    {
     "data": {
      "text/latex": [
       "$\\displaystyle 0.0429390828101489$"
      ],
      "text/plain": [
       "0.0429390828101489"
      ]
     },
     "execution_count": 851,
     "metadata": {},
     "output_type": "execute_result"
    }
   ],
   "source": [
    "import numpy as np\n",
    "import matplotlib.pyplot as plt\n",
    "from sympy import symbols, tanh, diff, atan\n",
    "\n",
    "# Define the symbols\n",
    "tau, epsilon_c = symbols('tau epsilon_c')\n",
    "\n",
    "# Define the given function for μ(τ)\n",
    "mu = (7 / (2 * epsilon_c + 7)) * (1 - tanh((7 / 2) * (tau - (2 / 7) * atan(2 / 7 * epsilon_c))))\n",
    "\n",
    "# Define the given function for P / (J v_c)\n",
    "P_Jvc = 7 / 4 - mu\n",
    "\n",
    "# Calculate the first derivative of P / (J v_c) with respect to tau\n",
    "first_derivative = diff(P_Jvc, tau)\n",
    "\n",
    "# Set a value for epsilon_c for the plot\n",
    "#epsilon_c_value = 0.5\n",
    "Mach_obs1,Mach_obs2 = 10, 6\n",
    "epsilon_c_value1 = 1/2 + 3/Mach_obs1**2\n",
    "epsilon_c_value2 = 1/2 + 3/Mach_obs2**2\n",
    "print(epsilon_c_value1, epsilon_c_value2)\n",
    "epsilon_c_value = epsilon_c_value1\n",
    "# Generate values for tau from -1 to 1\n",
    "tau_values = np.linspace(-1, 1, 400)\n",
    "\n",
    "# Substitute epsilon_c value and tau values into the P / (J v_c) and its derivative\n",
    "P_Jvc_values = [P_Jvc.subs({tau: t, epsilon_c: epsilon_c_value}).evalf() for t in tau_values]\n",
    "derivative_values = [first_derivative.subs({tau: t, epsilon_c: epsilon_c_value}).evalf() for t in tau_values]\n",
    "\n",
    "# Calculate the value of tau_star\n",
    "tau_star = (2 / 7) * atan(2 / 7 * epsilon_c_value)\n",
    "\n",
    "# Plot P / (J v_c) and its first derivative\n",
    "plt.figure(figsize=(10, 6))\n",
    "\n",
    "# Plot P / (J v_c)\n",
    "plt.plot(tau_values, P_Jvc_values, label=r\"$\\frac{P}{Jv_c}$\")\n",
    "\n",
    "# Plot the first derivative of P / (J v_c)\n",
    "plt.plot(tau_values, derivative_values, label=r\"$\\frac{d}{d\\tau} \\left( \\frac{P}{Jv_c} \\right)$\")\n",
    "\n",
    "# Add a vertical dashed line at tau = tau_star\n",
    "plt.axvline(x=tau_star, color='r', linestyle='--', label=r\"$\\tau = \\tau_*$\")\n",
    "\n",
    "plt.xlabel(r'$\\tau$')\n",
    "plt.ylabel(r'Value')\n",
    "plt.title(r'$\\frac{P}{Jv_c}$ and its First Derivative with respect to $\\tau$')\n",
    "plt.legend()\n",
    "plt.grid(True)\n",
    "plt.show()\n",
    "\n",
    "tau_star"
   ]
  },
  {
   "cell_type": "code",
   "execution_count": 852,
   "id": "362eb918-77c1-4da2-af18-362f3d8bc4c5",
   "metadata": {},
   "outputs": [
    {
     "name": "stdout",
     "output_type": "stream",
     "text": [
      "0.53 0.5833333333333334\n"
     ]
    },
    {
     "data": {
      "image/png": "[encoded data removed]",
      "text/plain": [
       "<Figure size 1000x600 with 1 Axes>"
      ]
     },
     "metadata": {},
     "output_type": "display_data"
    },
    {
     "data": {
      "text/latex": [
       "$\\displaystyle 0.0471853364041791$"
      ],
      "text/plain": [
       "0.0471853364041791"
      ]
     },
     "execution_count": 852,
     "metadata": {},
     "output_type": "execute_result"
    }
   ],
   "source": [
    "import numpy as np\n",
    "import matplotlib.pyplot as plt\n",
    "from sympy import symbols, tanh, diff, atan\n",
    "\n",
    "# Define the symbols\n",
    "tau, epsilon_c = symbols('tau epsilon_c')\n",
    "\n",
    "# Define the given function for μ(τ)\n",
    "mu = (7 / (2 * epsilon_c + 7)) * (1 - tanh((7 / 2) * (tau - (2 / 7) * atan(2 / 7 * epsilon_c))))\n",
    "\n",
    "# Define the given function for P / (J v_c)\n",
    "P_Jvc = 7 / 4 - mu\n",
    "\n",
    "# Calculate the first derivative of P / (J v_c) with respect to tau\n",
    "first_derivative = diff(P_Jvc, tau)\n",
    "\n",
    "# Set a value for epsilon_c for the plot\n",
    "#epsilon_c_value = 0.5\n",
    "Mach_obs1,Mach_obs2 = 10, 6\n",
    "epsilon_c_value1 = 1/2 + 3/Mach_obs1**2\n",
    "epsilon_c_value2 = 1/2 + 3/Mach_obs2**2\n",
    "print(epsilon_c_value1, epsilon_c_value2)\n",
    "epsilon_c_value = epsilon_c_value2\n",
    "\n",
    "# Generate values for tau from -1 to 1\n",
    "tau_values = np.linspace(-1, 1, 400)\n",
    "\n",
    "# Substitute epsilon_c value and tau values into the P / (J v_c) and its derivative\n",
    "P_Jvc_values = [P_Jvc.subs({tau: t, epsilon_c: epsilon_c_value}).evalf() for t in tau_values]\n",
    "derivative_values = [first_derivative.subs({tau: t, epsilon_c: epsilon_c_value}).evalf() for t in tau_values]\n",
    "\n",
    "# Calculate the value of tau_star\n",
    "tau_star = (2 / 7) * atan(2 / 7 * epsilon_c_value)\n",
    "\n",
    "# Plot P / (J v_c) and its first derivative\n",
    "plt.figure(figsize=(10, 6))\n",
    "\n",
    "# Plot P / (J v_c)\n",
    "plt.plot(tau_values, P_Jvc_values, label=r\"$\\frac{P}{Jv_c}$\")\n",
    "\n",
    "# Plot the first derivative of P / (J v_c)\n",
    "plt.plot(tau_values, derivative_values, label=r\"$\\frac{d}{d\\tau} \\left( \\frac{P}{Jv_c} \\right)$\")\n",
    "\n",
    "# Add a vertical dashed line at tau = tau_star\n",
    "plt.axvline(x=tau_star, color='r', linestyle='--', label=r\"$\\tau = \\tau_*$\")\n",
    "\n",
    "plt.xlabel(r'$\\tau$')\n",
    "plt.ylabel(r'Value')\n",
    "plt.title(r'$\\frac{P}{Jv_c}$ and its First Derivative with respect to $\\tau$')\n",
    "plt.legend()\n",
    "plt.grid(True)\n",
    "plt.show()\n",
    "\n",
    "tau_star"
   ]
  },
  {
   "cell_type": "code",
   "execution_count": 879,
   "id": "874e8dab-5bad-4c36-bd67-6b345dc4a4aa",
   "metadata": {},
   "outputs": [
    {
     "name": "stdout",
     "output_type": "stream",
     "text": [
      "Estimated t_r: 2607.6404963227196 s\n"
     ]
    }
   ],
   "source": [
    "# Define the variables for the calculation\n",
    "B = 47/11.6 * 10**12  # Magnetic field in Gauss\n",
    "A_perp_R_star = 0.1 * 1e6 * 1e6  # Area in cm^2\n",
    "R_star = 10**6  # Radius in cm\n",
    "dot_M = 1.35 * 10**17  # Mass accretion rate in g/s\n",
    "\n",
    "# Given constant factor\n",
    "constant_factor = 340\n",
    "\n",
    "# Calculate t_r using the given formula\n",
    "t_r = constant_factor * (B / 10**12)**2 * (A_perp_R_star / 10**12) * (R_star / 10**6)**2 * (6.307 * 10**17 / dot_M)\n",
    "\n",
    "print(f\"Estimated t_r: {t_r} s\")"
   ]
  },
  {
   "cell_type": "code",
   "execution_count": null,
   "id": "2ee1e01b-3670-4ea2-b20f-a84e6bfb3eb5",
   "metadata": {},
   "outputs": [],
   "source": []
  }
 ],
 "metadata": {
  "kernelspec": {
   "display_name": "Python 3 (ipykernel)",
   "language": "python",
   "name": "python3"
  },
  "language_info": {
   "codemirror_mode": {
    "name": "ipython",
    "version": 3
   },
   "file_extension": ".py",
   "mimetype": "text/x-python",
   "name": "python",
   "nbconvert_exporter": "python",
   "pygments_lexer": "ipython3",
   "version": "3.11.6"
  }
 },
 "nbformat": 4,
 "nbformat_minor": 5
}

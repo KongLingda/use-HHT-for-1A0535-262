{
 "cells": [
  {
   "cell_type": "code",
   "execution_count": 10,
   "id": "2e384502-3262-44bf-a053-e3a579f3f354",
   "metadata": {},
   "outputs": [
    {
     "name": "stdout",
     "output_type": "stream",
     "text": [
      "光度 L = 2.250e+37 erg/s\n",
      "光度 L1 = 2.790e+37 erg/s\n"
     ]
    }
   ],
   "source": [
    "import math\n",
    "\n",
    "# 给定参数\n",
    "D_kpc = 2  # 距离，单位为千秒差距(kpc)\n",
    "F = 10**(-7.32794)\n",
    "F1 = 10**(-7.23452) \n",
    "\n",
    "# 辐射通量，单位为erg/s/cm^2\n",
    "\n",
    "# 将距离转换为厘米\n",
    "kpc_to_cm = 3.086e21  # 1 kpc = 3.086 x 10^21 cm\n",
    "D_cm = D_kpc * kpc_to_cm  # 转换为厘米\n",
    "\n",
    "# 计算光度\n",
    "L = 4 * math.pi * D_cm**2 * F\n",
    "L1 = 4 * math.pi * D_cm**2 * F1\n",
    "\n",
    "print(f\"光度 L = {L:.3e} erg/s\")\n",
    "print(f\"光度 L1 = {L1:.3e} erg/s\")"
   ]
  },
  {
   "cell_type": "code",
   "execution_count": null,
   "id": "79aa7214-f118-410c-a550-9049b85309dc",
   "metadata": {},
   "outputs": [],
   "source": []
  }
 ],
 "metadata": {
  "kernelspec": {
   "display_name": "Python 3 (ipykernel)",
   "language": "python",
   "name": "python3"
  },
  "language_info": {
   "codemirror_mode": {
    "name": "ipython",
    "version": 3
   },
   "file_extension": ".py",
   "mimetype": "text/x-python",
   "name": "python",
   "nbconvert_exporter": "python",
   "pygments_lexer": "ipython3",
   "version": "3.11.6"
  }
 },
 "nbformat": 4,
 "nbformat_minor": 5
}

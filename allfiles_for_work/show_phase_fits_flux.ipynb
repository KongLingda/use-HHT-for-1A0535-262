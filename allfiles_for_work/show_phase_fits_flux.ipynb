{
 "cells": [
  {
   "cell_type": "code",
   "execution_count": 1,
   "id": "9b19292f-623b-410a-bb4a-9c2e591a5715",
   "metadata": {},
   "outputs": [],
   "source": [
    "import numpy as np\n",
    "import matplotlib.pyplot as plt\n",
    "plt.style.use('science')\n",
    "plt.rcParams['text.usetex'] = True\n",
    "#import seaborn; seaborn.set()\n",
    "import astropy.io.fits as fits\n",
    "from astropy.io import ascii\n",
    "from astropy.table import Table\n",
    "import os\n",
    "import re\n",
    "import math\n",
    "from pandas import DataFrame\n",
    "import pandas as pd\n",
    "import sys\n",
    "# 定义颜色\n",
    "colors = {\n",
    "    'red': '#E24A33',\n",
    "    'blue': '#348ABD',\n",
    "    'green': '#8EBA42',\n",
    "    'orange': '#FBC15E',\n",
    "    'purple': '#988ED5',\n",
    "    'pink': '#FFB5B8',\n",
    "    'gray': '#777777'\n",
    "}\n",
    "\n",
    "def readfile(tfile): \n",
    "    with open(tfile,'r') as f:\n",
    "        lines=f.readlines()\n",
    "    return lines"
   ]
  },
  {
   "cell_type": "code",
   "execution_count": 2,
   "id": "571569ce-3d14-4358-84aa-aaf724a9f3aa",
   "metadata": {},
   "outputs": [],
   "source": [
    "def read_fitresults(source,files,Models,N_Unitsi,path0):\n",
    "    print(files)\n",
    "    #MJD = read_MJD(files,path0)\n",
    "    f = open(\"%s/%s\"%(source,files),\"r\")\n",
    "    all=f.read()\n",
    "    #print(all)\n",
    "    line_tails=readfile(\"%s/%s\"%(source,files))\n",
    "    j=0\n",
    "    pars_values=[]\n",
    "    pars_names=[]\n",
    "    while j < len(Models):\n",
    "        pars=re.findall(r\"%s.*\"%Models[j], all)\n",
    "        #print(pars)\n",
    "        l=len(N_Units[j])\n",
    "        while l > 0:\n",
    "            p=N_Units[j][-l]\n",
    "            if Long_index[j] > 1:\n",
    "                pars_values.append(float(pars[-l-(Long_index[j]-1)*len(N_Units[j])].split()[2+p]))\n",
    "                name_str=Models[j]+'%s'%Long_index[j]+'_'+pars[-l].split()[1]\n",
    "                pars_names.append(name_str)\n",
    "                l-=1\n",
    "            else:\n",
    "                pars_values.append(float(pars[-l].split()[2+p]))\n",
    "                name_str=Models[j]+'%s'%Long_index[j]+'_'+pars[-l].split()[1]\n",
    "                pars_names.append(name_str)\n",
    "                l-=1\n",
    "        j+=1\n",
    "    par_chi=re.findall(r\"Test statistic : Chi-Squared.*\", all)\n",
    "    #print(par_chi[-1].split())\n",
    "    dofall=re.findall(r\"Null hypothesis probability.*\", all)\n",
    "    #print(dofall[-1].split())\n",
    "    chi2=par_chi[-1].split()[4]\n",
    "    # print(chi2)\n",
    "    dof=dofall[-1].split()[6]\n",
    "    # print(dof)\n",
    "    red_chi2=float(chi2)/float(dof)\n",
    "    # print(red_chi2)\n",
    "    return pars_names, pars_values, red_chi2"
   ]
  },
  {
   "cell_type": "code",
   "execution_count": 3,
   "id": "75fc1960-14d9-4443-9c30-721a08a7a7de",
   "metadata": {},
   "outputs": [],
   "source": [
    "def read_errs(source,files,errs,pars_names,pars_values):\n",
    "    f = open(\"%s/%s\"%(source,files),\"r\")\n",
    "    all=f.read()\n",
    "    #print(all)\n",
    "    line_tails=readfile(\"%s/%s\"%(source,files))\n",
    "    Err=re.findall(r\"Parameter   Confidence Range.*\", all)\n",
    "    l=0\n",
    "    while l < len(line_tails):\n",
    "        if Err[0] in line_tails[l]:\n",
    "            L=l\n",
    "        else:\n",
    "            pass\n",
    "        l+=1\n",
    "    for e in errs:\n",
    "        Errs_results=[line_tails[L+1+a].split() for a in range(len(errs))]\n",
    "    pars_Err_lh=[]\n",
    "    NE=0\n",
    "    while NE < len(errs):\n",
    "        err_low=float(Errs_results[NE][1])\n",
    "        err_high=float(Errs_results[NE][2])\n",
    "        pars_Err_lh.append([err_low,err_high])\n",
    "        NE+=1\n",
    "    #print(pars_values)\n",
    "    #get err\n",
    "    Np=0\n",
    "    err_LR=[]\n",
    "    while Np < len(pars_values):\n",
    "        err_L=pars_values[Np]-pars_Err_lh[Np][0]\n",
    "        err_R=pars_Err_lh[Np][1]-pars_values[Np]\n",
    "        err_LR.append([err_L,err_R])\n",
    "        Np+=1\n",
    "    err_names_L=[\"%s_Lerrs\"%Name for Name in pars_names]\n",
    "    err_names_R=[\"%s_Rerrs\"%Name for Name in pars_names]\n",
    "\n",
    "    err_L=[i[0] for i in err_LR]\n",
    "    err_R=[i[1] for i in err_LR]\n",
    "\n",
    "    return err_names_L,err_L,err_names_R,err_R"
   ]
  },
  {
   "cell_type": "code",
   "execution_count": 4,
   "id": "378a34d3-11ee-463c-adb3-dca1f1026032",
   "metadata": {},
   "outputs": [
    {
     "name": "stdout",
     "output_type": "stream",
     "text": [
      "phase_0001.txt\n",
      "phase_0102.txt\n",
      "phase_0203.txt\n",
      "phase_0304.txt\n",
      "phase_0405.txt\n",
      "phase_0506.txt\n",
      "phase_0607.txt\n",
      "phase_0708.txt\n",
      "phase_0809.txt\n",
      "phase_0910.txt\n",
      "Index(['cflux1_lg10Flux', 'cflux1_lg10Flux_Lerrs', 'cflux1_lg10Flux_Rerrs'], dtype='object')\n",
      "1\n",
      "Index(['cflux1_lg10Flux'], dtype='object')\n"
     ]
    }
   ],
   "source": [
    "source=\"/Volumes/WD_BLACK/Data/1A0535p262/HXMT/HHT/20201120_QPOphase/fit_results_flux\"\n",
    "path0=\"/Volumes/WD_BLACK/Data/1A0535p262/HXMT/HHT/20201120_QPOphase/fit_results_flux\"\n",
    "files=os.listdir(\"%s\"%source)\n",
    "Models=['cflux']\n",
    "N_Units=[[1]]\n",
    "errs=[5]\n",
    "#errs=[11]\n",
    "Long_index=[1]\n",
    "\n",
    "i=0\n",
    "red_chi2_all=[]\n",
    "while i < len(files):\n",
    "#while i < 1:\n",
    "    #pars_names, pars_values,red_chi2,dof, MJD, Lum, Lum_errL, Lum_errR=read_fitresults(source,files[i],Models,N_Units,path0)\n",
    "    pars_names, pars_values, red_chi2=read_fitresults(source,files[i],Models, N_Units,path0)\n",
    "    red_chi2_all.append(red_chi2)\n",
    "    #print(red_chi2)\n",
    "    #print(pars_names)\n",
    "    fit_names=pars_names\n",
    "    fit_data=pars_values\n",
    "\n",
    "    err_names_L, err_L, err_names_R, err_R=read_errs(source,files[i],errs,pars_names,pars_values)\n",
    "    #print(err_names_L)\n",
    "    #err_names_L, err_L = err_names_L+['Lum_errL'], err_L+[Lum_errL]\n",
    "    #err_names_R, err_R = err_names_R+['Lum_errR'], err_R+[Lum_errR]\n",
    "    \n",
    "    derr_L=dict(zip(err_names_L,err_L))\n",
    "    derr_R=dict(zip(err_names_R,err_R))\n",
    "    if i==0:\n",
    "        d1 = dict(zip(fit_names,fit_data))\n",
    "        Para=pd.DataFrame(d1,index=['%s'%files[i]])\n",
    "        Para_errL=pd.DataFrame(derr_L,index=['%s'%files[i]])\n",
    "        Para_errR=pd.DataFrame(derr_R,index=['%s'%files[i]])\n",
    "        i+=1\n",
    "    else:\n",
    "        Para.loc['%s'%files[i]]=fit_data\n",
    "        Para_errL.loc['%s'%files[i]]=err_L\n",
    "        Para_errR.loc['%s'%files[i]]=err_R\n",
    "        i+=1\n",
    "Para_all=pd.concat([Para,Para_errL,Para_errR],axis=1)\n",
    "#save_data=\"fit_comptt_final.csv\"\n",
    "#Para_all.to_csv(save_data)\n",
    "print(Para_all.columns)\n",
    "M=len(errs)\n",
    "print(M)\n",
    "names=Para_all.columns[:M]\n",
    "print(names)"
   ]
  },
  {
   "cell_type": "code",
   "execution_count": 5,
   "id": "3c6279cc-7e45-47e5-877a-8f1a785a9438",
   "metadata": {},
   "outputs": [
    {
     "data": {
      "image/png": "[encoded data removed]",
      "text/plain": [
       "<Figure size 400x400 with 2 Axes>"
      ]
     },
     "metadata": {},
     "output_type": "display_data"
    }
   ],
   "source": [
    "X = np.array([0.05,0.15,0.25,0.35,0.45,0.55,0.65,0.75,0.85,0.95])\n",
    "x_data=np.hstack([X,X+1])\n",
    "X_err=np.array([0.05,0.05,0.05,0.05,0.05,0.05,0.05,0.05,0.05,0.05])\n",
    "x_err=np.hstack([X_err,X_err])\n",
    "fig, axs = plt.subplots(M+1,1,figsize=(4, 4))\n",
    "Ylabels=[r'Flux']\n",
    "axs[0].set_title('Date: 20201208')\n",
    "i=0\n",
    "while i < len(names):\n",
    "    name=names[i]\n",
    "    y1=Para_all['%s'%name].values\n",
    "    #print(np.mean(y1))\n",
    "    y1_err=0.5*(abs(Para_all['%s_Lerrs'%name].values)+abs(Para_all['%s_Rerrs'%name].values))\n",
    "    y1=np.hstack([y1,y1])\n",
    "    y1_pow_10 = np.power(10, y1)\n",
    "    y1_err=np.hstack([y1_err,y1_err])\n",
    "    y1_err_new = y1_err * np.log(10) * y1_pow_10\n",
    "    axs[0+i].errorbar(x_data,y1_pow_10,xerr=x_err,yerr=y1_err_new,drawstyle='steps-mid',color='r',ecolor='r')\n",
    "    #axs2 = axs[0+i].twinx()\n",
    "    #axs2.errorbar(phase_bins, profile, drawstyle='steps-mid',color='k',ecolor='k')\n",
    "    axs[0+i].set_ylabel(Ylabels[i])\n",
    "    #axs2.set_ylabel(r'Pulse (cts/s)')\n",
    "    plt.xlabel('Phases')\n",
    "    i+=1\n",
    "#plot reduced chi^2 of fitting: \n",
    "axs[0+i].errorbar(x_data,np.hstack([red_chi2_all,red_chi2_all]),fmt='.',color='r',ecolor='r')\n",
    "axs[0+i].set_ylim(0.8,1.2)\n",
    "axs[0+i].set_ylabel(r'$\\chi^2_{\\rm red}$')\n",
    "plt.subplots_adjust(wspace=0, hspace=0)\n",
    "# plt.savefig('20201204_paras.pdf')"
   ]
  },
  {
   "cell_type": "code",
   "execution_count": 6,
   "id": "a541ac21-7f65-41a1-9985-bc983bbf6d95",
   "metadata": {},
   "outputs": [
    {
     "name": "stdout",
     "output_type": "stream",
     "text": [
      "[array([2.23187568e-07, 2.24786383e-07, 2.29879371e-07, 2.39916435e-07,\n",
      "       2.48582184e-07, 2.49419268e-07, 2.43304421e-07, 2.37235676e-07,\n",
      "       2.35217701e-07, 2.28444128e-07])]\n"
     ]
    }
   ],
   "source": [
    "Y=np.array(Para_all['%s' % name].values)\n",
    "#Y_err=0.5*(abs(Para_all['%s_Lerrs'%name].values)+abs(Para_all['%s_Rerrs'%name].values))\n",
    "print([np.power(10, Y)])\n",
    "#print(Y_err*np.log(10)*np.power(10, Y))"
   ]
  },
  {
   "cell_type": "code",
   "execution_count": 7,
   "id": "3545090e-8728-49b4-88b5-0ca5c92dc305",
   "metadata": {},
   "outputs": [
    {
     "name": "stdout",
     "output_type": "stream",
     "text": [
      "fractional RMS of flux is:  0.037749812636336436\n"
     ]
    }
   ],
   "source": [
    "std_deviation = np.std(y1_pow_10)\n",
    "\n",
    "# 计算平均值\n",
    "mean_value = np.mean(y1_pow_10)\n",
    "\n",
    "# 计算标准差除以平均值\n",
    "std_deviation_over_mean = std_deviation / mean_value\n",
    "print(\"fractional RMS of flux is: \", std_deviation_over_mean)"
   ]
  },
  {
   "cell_type": "code",
   "execution_count": 8,
   "id": "9a673c17-f76f-4340-b3f7-a1d6d09ae891",
   "metadata": {},
   "outputs": [
    {
     "name": "stdout",
     "output_type": "stream",
     "text": [
      "fractional RMS of flux is:  0.055504274911040055\n"
     ]
    }
   ],
   "source": [
    "maxf = np.max(y1_pow_10)\n",
    "minf = np.min(y1_pow_10)\n",
    "frms=(maxf-minf)/(maxf+minf)\n",
    "print(\"fractional RMS of flux is: \", frms)"
   ]
  },
  {
   "cell_type": "code",
   "execution_count": 9,
   "id": "ba9a019e-38c3-4bb5-954d-8c9ab4924457",
   "metadata": {},
   "outputs": [
    {
     "name": "stdout",
     "output_type": "stream",
     "text": [
      "0.158 0.118\n",
      "52.5\n"
     ]
    }
   ],
   "source": [
    "#fdcut\n",
    "E_band=['2-5 keV','5-10 keV','10-15 keV','15-20 keV','20-25 keV',\n",
    "        '25-30 keV','30-35 keV','35-40 keV','40-45 keV','45-50 keV',\n",
    "        '50-55 keV','55-60 keV','60-65 keV','65-70 keV','70-75 keV',\n",
    "        '75-80 keV','80-85 keV','85-90 keV','90-120 keV']\n",
    "Ex=[3.5,7.5,12.5,17.5,22.5,\n",
    "    27.5,32.5,37.5,42.5,47.5,\n",
    "    52.5,57.5,62.5,67.5,72.5,\n",
    "    77.5,82.5,87.5,105]\n",
    "Ex=np.array(Ex)\n",
    "\n",
    "rms_all=[0.011,0.019,0.020,0.019,0.027,\n",
    "         0.044,0.067,0.095,0.126,0.149,\n",
    "         0.158,0.152,0.137,0.122,0.111,\n",
    "         0.105,0.098,0.086,0.062]\n",
    "rms_all=np.array(rms_all)\n",
    "rms_1=[0.011,0.019,0.020,0.020,0.025,\n",
    "       0.036,0.048,0.059,0.068,0.075,\n",
    "       0.082,0.087,0.091,0.095,0.099,\n",
    "       0.103,0.106,0.109,0.118]\n",
    "rms_1=np.array(rms_1)\n",
    "\n",
    "max_index1 = np.argmax(rms_all)\n",
    "max_index2 = np.argmax(rms_1)\n",
    "\n",
    "print(rms_all[max_index1],rms_1[max_index2])\n",
    "print(Ex[max_index1])"
   ]
  },
  {
   "cell_type": "code",
   "execution_count": 11,
   "id": "47a1df32-3226-4ee9-b1d6-da8d9557efb0",
   "metadata": {},
   "outputs": [
    {
     "data": {
      "image/png": "[encoded data removed]",
      "text/plain": [
       "<Figure size 500x400 with 1 Axes>"
      ]
     },
     "metadata": {},
     "output_type": "display_data"
    }
   ],
   "source": [
    "plt.figure(figsize=(5, 4))  \n",
    "plt.plot(Ex,rms_all*100,'-k',label=\"with CRSF\",lw=2)\n",
    "plt.plot(Ex,rms_1*100,'-',color=colors['blue'],label=\"without CRSF\",lw=2)\n",
    "\n",
    "xrms=[31.0,37.5,42.5,47.5,57.5,72.5,90]\n",
    "xrms_err=[4.0,2.5,2.5,2.5,7.5,7.5,10.0]\n",
    "\n",
    "# yrms=[4.7,8.3,11.5,14.1,15.0,13.1,7.0]\n",
    "# yrms_err=[0.7,1.0,1.1,1.4,1.4,1.2,1.8]\n",
    "\n",
    "yrms=[4.6,8.8,11.4,14.6,15.4,13.2,7.4]\n",
    "yrms_err=[0.8,0.8,0.9,1.0,1.0,1.0,2.0]\n",
    "\n",
    "plt.errorbar(xrms, yrms, xerr=xrms_err, yerr=yrms_err, \n",
    "             fmt='o', color=colors['red'], ecolor=colors['red'], capsize=5, markersize=8, elinewidth=2)\n",
    "\n",
    "Ecyc=43.5\n",
    "plt.axvline(x=Ecyc, color=colors['red'], linestyle='--',lw=2, label=r\"$E_{\\rm cyc}=43.5$ keV\")\n",
    "plt.title('Date: 2020-11-20', fontsize=14, fontweight='bold',fontname='Times New Roman')\n",
    "plt.xlabel('Energy [keV]', fontsize=14, fontweight='bold',fontname='Times New Roman')\n",
    "plt.ylabel('RMS [\\%]', fontsize=14, fontweight='bold',fontname='Times New Roman')\n",
    "plt.ylim(0,25)\n",
    "#plt.xscale('log')\n",
    "#plt.legend()\n",
    "# 设置四个边框加粗\n",
    "ax = plt.gca()\n",
    "ax.spines['top'].set_linewidth(2)\n",
    "ax.spines['right'].set_linewidth(2)\n",
    "ax.spines['bottom'].set_linewidth(2)\n",
    "ax.spines['left'].set_linewidth(2)\n",
    "plt.legend(loc='upper left')\n",
    "#plt.savefig('/Users/kldsky/Desktop/1A0535_results/fdcut/20201120_fdcut_flux.pdf')"
   ]
  },
  {
   "cell_type": "raw",
   "id": "3e3f526f-ea57-4384-9571-8830aedaf8a7",
   "metadata": {},
   "source": [
    "frms=(max(y1_pow_10)-min(y1_pow_10))/(max(y1_pow_10)+min(y1_pow_10))\n",
    "print(frms)\n",
    "for i in names:\n",
    "    rms=100*(max(abs(Para_all[i].values))-(min(abs(Para_all[i].values))))/(abs(max(Para_all[i].values))+min(abs(Para_all[i].values)))\n",
    "    K=np.mean(Para_all[i].values)\n",
    "    #print('rms:',rms)\n",
    "    print('mean:',i,K)"
   ]
  },
  {
   "cell_type": "raw",
   "id": "54cb3637-5d14-467e-80fd-9697d0b4ff68",
   "metadata": {},
   "source": [
    "#cutoffpl+BB+BB\n",
    "E_band=['2-5 keV','5-10 keV','10-15 keV','15-20 keV','20-25 keV',\n",
    "        '25-30 keV','30-35 keV','35-40 keV','40-45 keV','45-50 keV',\n",
    "        '50-55 keV','55-60 keV','60-65 keV','65-70 keV','70-75 keV',\n",
    "        '75-80 keV','80-85 keV','85-90 keV','90-120 keV']\n",
    "Ex=[3.5,7.5,12.5,17.5,22.5,\n",
    "    27.5,32.5,37.5,42.5,47.5,\n",
    "    52.5,57.5,62.5,67.5,72.5,\n",
    "    77.5,82.5,87.5,105]\n",
    "Ex=np.array(Ex)\n",
    "\n",
    "rms_all=[0.020,0.020,0.026,0.033,0.043,\n",
    "         0.054,0.070,0.092,0.115,0.129,\n",
    "         0.128,0.117,0.106,0.100,0.100,\n",
    "         0.101,0.095,0.061,0.056]\n",
    "rms_all=np.array(rms_all)\n",
    "rms_1=[0.020,0.020,0.026,0.033,0.042,\n",
    "       0.051,0.058,0.065,0.071,0.076,\n",
    "       0.081,0.086,0.090,0.094,0.098,\n",
    "       0.101,0.105,0.108,0.115]\n",
    "rms_1=np.array(rms_1)\n",
    "\n",
    "max_index1 = np.argmax(rms_all)\n",
    "max_index2 = np.argmax(rms_1)\n",
    "\n",
    "print(rms_all[max_index1],rms_1[max_index2])\n",
    "print(Ex[max_index1])"
   ]
  },
  {
   "cell_type": "raw",
   "id": "a7b2107d-37ab-4c09-afb0-094c2b236fc5",
   "metadata": {},
   "source": [
    "#comptb+comptt (no fixed)\n",
    "rms_all=[0.020,0.020,0.027,0.034,0.044,\n",
    "         0.060,0.080,0.105,0.127,0.138,\n",
    "         0.138,0.130,0.122,0.114,0.107,\n",
    "         0.098,0.087,0.074,0.052]\n",
    "rms_all=np.array(rms_all)\n",
    "rms_1=[0.020,0.020,0.027,0.034,0.044,\n",
    "       0.060,0.074,0.087,0.097,0.105,\n",
    "       0.110,0.113,0.114,0.111,0.106,\n",
    "       0.098,0.087,0.074,0.052]\n",
    "rms_1=np.array(rms_1)\n",
    "\n",
    "max_index1 = np.argmax(rms_all)\n",
    "max_index2 = np.argmax(rms_1)\n",
    "\n",
    "print(rms_all[max_index1],rms_1[max_index2])\n",
    "print(Ex[max_index1])"
   ]
  }
 ],
 "metadata": {
  "kernelspec": {
   "display_name": "Python 3 (ipykernel)",
   "language": "python",
   "name": "python3"
  },
  "language_info": {
   "codemirror_mode": {
    "name": "ipython",
    "version": 3
   },
   "file_extension": ".py",
   "mimetype": "text/x-python",
   "name": "python",
   "nbconvert_exporter": "python",
   "pygments_lexer": "ipython3",
   "version": "3.11.6"
  }
 },
 "nbformat": 4,
 "nbformat_minor": 5
}
